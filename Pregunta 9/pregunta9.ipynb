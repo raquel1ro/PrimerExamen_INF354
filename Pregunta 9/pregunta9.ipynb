{
  "nbformat": 4,
  "nbformat_minor": 0,
  "metadata": {
    "colab": {
      "provenance": []
    },
    "kernelspec": {
      "name": "python3",
      "display_name": "Python 3"
    },
    "language_info": {
      "name": "python"
    }
  },
  "cells": [
    {
      "cell_type": "code",
      "execution_count": null,
      "metadata": {
        "id": "0UzOnEZ4Zoi6"
      },
      "outputs": [],
      "source": []
    },
    {
      "cell_type": "markdown",
      "source": [
        "##**9**. Con PYTHON sin librerías construya los índices de al menos dos ciclos para un Split de Train 80 y test de 20, apliquelo en el dataset iris."
      ],
      "metadata": {
        "id": "-xNLCW42Zzx-"
      }
    },
    {
      "cell_type": "code",
      "source": [
        "import random\n",
        "import pandas as pd\n",
        "import numpy as np\n",
        "#cambiar el directorio de google colab a google drive\n",
        "from google.colab import drive\n",
        "drive.mount('/content/drive')\n",
        "#cambiar el directorio de trabajo actual\n",
        "import os\n",
        "os.chdir('/content/drive/MyDrive/data')\n",
        "#lectura de datos\n",
        "df=pd.read_csv(\"Iris.csv\")\n",
        "#convertimos a un array nampy\n"
      ],
      "metadata": {
        "colab": {
          "base_uri": "https://localhost:8080/"
        },
        "id": "_taR0iPKZ4XV",
        "outputId": "df16ccc7-cbe0-40c8-dc3b-750ee5cc164d"
      },
      "execution_count": 2,
      "outputs": [
        {
          "output_type": "stream",
          "name": "stdout",
          "text": [
            "Drive already mounted at /content/drive; to attempt to forcibly remount, call drive.mount(\"/content/drive\", force_remount=True).\n"
          ]
        }
      ]
    },
    {
      "cell_type": "code",
      "source": [
        "\n",
        "def train_test_dividir(datos,test):\n",
        "  # Crear una lista de índices\n",
        "  indices = list(range(len(datos)))\n",
        "\n",
        "  # generamos los índices de forma aleatoria\n",
        "  random.shuffle(indices)\n",
        "\n",
        "  # Obtenemos el tamaño del conjunto de entranamiento\n",
        "  train=1-test\n",
        "  train_size = int(train * len(datos))\n",
        "\n",
        "  # Dividir los índices en conjuntos de entrenamiento y prueba\n",
        "  train_indices = indices[:train_size]\n",
        "  test_indices = indices[train_size:]\n",
        "\n",
        "  # Usar los índices para dividir el dataset en subconjuntos de entrenamiento y prueba\n",
        "  datos_train = [datos[i] for i in train_indices]\n",
        "  datos_test = [datos[i] for i in test_indices]\n",
        "\n",
        "  return datos_train,datos_test\n",
        "print(\"caso de prueba\")\n",
        "caso_prueba=[[1,2,3,'a'],[4,5,6,'b'],[6,7,8,'c']]\n",
        "\n",
        "\n",
        "datos_train,datos_test=train_test_dividir(caso_prueba,test=0.2)\n",
        "print(datos_train)\n",
        "print(\"\")\n",
        "print(datos_test)\n",
        "\n",
        "print(\"\\ncaso para el dataset\")\n",
        "datos=np.array(df)\n",
        "datos_train,datos_test=train_test_dividir(datos,test=0.2)\n",
        "print(datos_train)\n",
        "print(\"\")\n",
        "print(datos_test)"
      ],
      "metadata": {
        "colab": {
          "base_uri": "https://localhost:8080/"
        },
        "id": "iVYB8kF2hr1F",
        "outputId": "a6e714e9-a1ea-4a0a-a579-7429111b5d7b"
      },
      "execution_count": 6,
      "outputs": [
        {
          "output_type": "stream",
          "name": "stdout",
          "text": [
            "caso de prueba\n",
            "[[1, 2, 3, 'a'], [6, 7, 8, 'c']]\n",
            "\n",
            "[[4, 5, 6, 'b']]\n",
            "\n",
            "caso para el dataset\n",
            "[array([41, 5.0, 3.5, 1.3, 0.3, 'Iris-setosa'], dtype=object), array([130, 7.2, 3.0, 5.8, 1.6, 'Iris-virginica'], dtype=object), array([86, 6.0, 3.4, 4.5, 1.6, 'Iris-versicolor'], dtype=object), array([145, 6.7, 3.3, 5.7, 2.5, 'Iris-virginica'], dtype=object), array([128, 6.1, 3.0, 4.9, 1.8, 'Iris-virginica'], dtype=object), array([56, 5.7, 2.8, 4.5, 1.3, 'Iris-versicolor'], dtype=object), array([111, 6.5, 3.2, 5.1, 2.0, 'Iris-virginica'], dtype=object), array([3, 4.7, 3.2, 1.3, 0.2, 'Iris-setosa'], dtype=object), array([97, 5.7, 2.9, 4.2, 1.3, 'Iris-versicolor'], dtype=object), array([133, 6.4, 2.8, 5.6, 2.2, 'Iris-virginica'], dtype=object), array([60, 5.2, 2.7, 3.9, 1.4, 'Iris-versicolor'], dtype=object), array([46, 4.8, 3.0, 1.4, 0.3, 'Iris-setosa'], dtype=object), array([8, 5.0, 3.4, 1.5, 0.2, 'Iris-setosa'], dtype=object), array([76, 6.6, 3.0, 4.4, 1.4, 'Iris-versicolor'], dtype=object), array([28, 5.2, 3.5, 1.5, 0.2, 'Iris-setosa'], dtype=object), array([116, 6.4, 3.2, 5.3, 2.3, 'Iris-virginica'], dtype=object), array([98, 6.2, 2.9, 4.3, 1.3, 'Iris-versicolor'], dtype=object), array([100, 5.7, 2.8, 4.1, 1.3, 'Iris-versicolor'], dtype=object), array([61, 5.0, 2.0, 3.5, 1.0, 'Iris-versicolor'], dtype=object), array([95, 5.6, 2.7, 4.2, 1.3, 'Iris-versicolor'], dtype=object), array([92, 6.1, 3.0, 4.6, 1.4, 'Iris-versicolor'], dtype=object), array([136, 7.7, 3.0, 6.1, 2.3, 'Iris-virginica'], dtype=object), array([69, 6.2, 2.2, 4.5, 1.5, 'Iris-versicolor'], dtype=object), array([125, 6.7, 3.3, 5.7, 2.1, 'Iris-virginica'], dtype=object), array([115, 5.8, 2.8, 5.1, 2.4, 'Iris-virginica'], dtype=object), array([66, 6.7, 3.1, 4.4, 1.4, 'Iris-versicolor'], dtype=object), array([99, 5.1, 2.5, 3.0, 1.1, 'Iris-versicolor'], dtype=object), array([117, 6.5, 3.0, 5.5, 1.8, 'Iris-virginica'], dtype=object), array([57, 6.3, 3.3, 4.7, 1.6, 'Iris-versicolor'], dtype=object), array([137, 6.3, 3.4, 5.6, 2.4, 'Iris-virginica'], dtype=object), array([106, 7.6, 3.0, 6.6, 2.1, 'Iris-virginica'], dtype=object), array([89, 5.6, 3.0, 4.1, 1.3, 'Iris-versicolor'], dtype=object), array([1, 5.1, 3.5, 1.4, 0.2, 'Iris-setosa'], dtype=object), array([83, 5.8, 2.7, 3.9, 1.2, 'Iris-versicolor'], dtype=object), array([17, 5.4, 3.9, 1.3, 0.4, 'Iris-setosa'], dtype=object), array([90, 5.5, 2.5, 4.0, 1.3, 'Iris-versicolor'], dtype=object), array([147, 6.3, 2.5, 5.0, 1.9, 'Iris-virginica'], dtype=object), array([55, 6.5, 2.8, 4.6, 1.5, 'Iris-versicolor'], dtype=object), array([37, 5.5, 3.5, 1.3, 0.2, 'Iris-setosa'], dtype=object), array([48, 4.6, 3.2, 1.4, 0.2, 'Iris-setosa'], dtype=object), array([134, 6.3, 2.8, 5.1, 1.5, 'Iris-virginica'], dtype=object), array([5, 5.0, 3.6, 1.4, 0.2, 'Iris-setosa'], dtype=object), array([39, 4.4, 3.0, 1.3, 0.2, 'Iris-setosa'], dtype=object), array([13, 4.8, 3.0, 1.4, 0.1, 'Iris-setosa'], dtype=object), array([6, 5.4, 3.9, 1.7, 0.4, 'Iris-setosa'], dtype=object), array([146, 6.7, 3.0, 5.2, 2.3, 'Iris-virginica'], dtype=object), array([84, 6.0, 2.7, 5.1, 1.6, 'Iris-versicolor'], dtype=object), array([45, 5.1, 3.8, 1.9, 0.4, 'Iris-setosa'], dtype=object), array([96, 5.7, 3.0, 4.2, 1.2, 'Iris-versicolor'], dtype=object), array([4, 4.6, 3.1, 1.5, 0.2, 'Iris-setosa'], dtype=object), array([63, 6.0, 2.2, 4.0, 1.0, 'Iris-versicolor'], dtype=object), array([30, 4.7, 3.2, 1.6, 0.2, 'Iris-setosa'], dtype=object), array([70, 5.6, 2.5, 3.9, 1.1, 'Iris-versicolor'], dtype=object), array([142, 6.9, 3.1, 5.1, 2.3, 'Iris-virginica'], dtype=object), array([107, 4.9, 2.5, 4.5, 1.7, 'Iris-virginica'], dtype=object), array([88, 6.3, 2.3, 4.4, 1.3, 'Iris-versicolor'], dtype=object), array([104, 6.3, 2.9, 5.6, 1.8, 'Iris-virginica'], dtype=object), array([108, 7.3, 2.9, 6.3, 1.8, 'Iris-virginica'], dtype=object), array([67, 5.6, 3.0, 4.5, 1.5, 'Iris-versicolor'], dtype=object), array([122, 5.6, 2.8, 4.9, 2.0, 'Iris-virginica'], dtype=object), array([80, 5.7, 2.6, 3.5, 1.0, 'Iris-versicolor'], dtype=object), array([20, 5.1, 3.8, 1.5, 0.3, 'Iris-setosa'], dtype=object), array([78, 6.7, 3.0, 5.0, 1.7, 'Iris-versicolor'], dtype=object), array([93, 5.8, 2.6, 4.0, 1.2, 'Iris-versicolor'], dtype=object), array([138, 6.4, 3.1, 5.5, 1.8, 'Iris-virginica'], dtype=object), array([19, 5.7, 3.8, 1.7, 0.3, 'Iris-setosa'], dtype=object), array([53, 6.9, 3.1, 4.9, 1.5, 'Iris-versicolor'], dtype=object), array([132, 7.9, 3.8, 6.4, 2.0, 'Iris-virginica'], dtype=object), array([35, 4.9, 3.1, 1.5, 0.1, 'Iris-setosa'], dtype=object), array([101, 6.3, 3.3, 6.0, 2.5, 'Iris-virginica'], dtype=object), array([52, 6.4, 3.2, 4.5, 1.5, 'Iris-versicolor'], dtype=object), array([7, 4.6, 3.4, 1.4, 0.3, 'Iris-setosa'], dtype=object), array([40, 5.1, 3.4, 1.5, 0.2, 'Iris-setosa'], dtype=object), array([51, 7.0, 3.2, 4.7, 1.4, 'Iris-versicolor'], dtype=object), array([32, 5.4, 3.4, 1.5, 0.4, 'Iris-setosa'], dtype=object), array([85, 5.4, 3.0, 4.5, 1.5, 'Iris-versicolor'], dtype=object), array([140, 6.9, 3.1, 5.4, 2.1, 'Iris-virginica'], dtype=object), array([49, 5.3, 3.7, 1.5, 0.2, 'Iris-setosa'], dtype=object), array([23, 4.6, 3.6, 1.0, 0.2, 'Iris-setosa'], dtype=object), array([77, 6.8, 2.8, 4.8, 1.4, 'Iris-versicolor'], dtype=object), array([139, 6.0, 3.0, 4.8, 1.8, 'Iris-virginica'], dtype=object), array([24, 5.1, 3.3, 1.7, 0.5, 'Iris-setosa'], dtype=object), array([62, 5.9, 3.0, 4.2, 1.5, 'Iris-versicolor'], dtype=object), array([144, 6.8, 3.2, 5.9, 2.3, 'Iris-virginica'], dtype=object), array([141, 6.7, 3.1, 5.6, 2.4, 'Iris-virginica'], dtype=object), array([11, 5.4, 3.7, 1.5, 0.2, 'Iris-setosa'], dtype=object), array([44, 5.0, 3.5, 1.6, 0.6, 'Iris-setosa'], dtype=object), array([31, 4.8, 3.1, 1.6, 0.2, 'Iris-setosa'], dtype=object), array([119, 7.7, 2.6, 6.9, 2.3, 'Iris-virginica'], dtype=object), array([15, 5.8, 4.0, 1.2, 0.2, 'Iris-setosa'], dtype=object), array([91, 5.5, 2.6, 4.4, 1.2, 'Iris-versicolor'], dtype=object), array([121, 6.9, 3.2, 5.7, 2.3, 'Iris-virginica'], dtype=object), array([124, 6.3, 2.7, 4.9, 1.8, 'Iris-virginica'], dtype=object), array([25, 4.8, 3.4, 1.9, 0.2, 'Iris-setosa'], dtype=object), array([71, 5.9, 3.2, 4.8, 1.8, 'Iris-versicolor'], dtype=object), array([127, 6.2, 2.8, 4.8, 1.8, 'Iris-virginica'], dtype=object), array([150, 5.9, 3.0, 5.1, 1.8, 'Iris-virginica'], dtype=object), array([75, 6.4, 2.9, 4.3, 1.3, 'Iris-versicolor'], dtype=object), array([68, 5.8, 2.7, 4.1, 1.0, 'Iris-versicolor'], dtype=object), array([94, 5.0, 2.3, 3.3, 1.0, 'Iris-versicolor'], dtype=object), array([103, 7.1, 3.0, 5.9, 2.1, 'Iris-virginica'], dtype=object), array([74, 6.1, 2.8, 4.7, 1.2, 'Iris-versicolor'], dtype=object), array([135, 6.1, 2.6, 5.6, 1.4, 'Iris-virginica'], dtype=object), array([47, 5.1, 3.8, 1.6, 0.2, 'Iris-setosa'], dtype=object), array([54, 5.5, 2.3, 4.0, 1.3, 'Iris-versicolor'], dtype=object), array([58, 4.9, 2.4, 3.3, 1.0, 'Iris-versicolor'], dtype=object), array([33, 5.2, 4.1, 1.5, 0.1, 'Iris-setosa'], dtype=object), array([73, 6.3, 2.5, 4.9, 1.5, 'Iris-versicolor'], dtype=object), array([9, 4.4, 2.9, 1.4, 0.2, 'Iris-setosa'], dtype=object), array([72, 6.1, 2.8, 4.0, 1.3, 'Iris-versicolor'], dtype=object), array([14, 4.3, 3.0, 1.1, 0.1, 'Iris-setosa'], dtype=object), array([64, 6.1, 2.9, 4.7, 1.4, 'Iris-versicolor'], dtype=object), array([22, 5.1, 3.7, 1.5, 0.4, 'Iris-setosa'], dtype=object), array([79, 6.0, 2.9, 4.5, 1.5, 'Iris-versicolor'], dtype=object), array([105, 6.5, 3.0, 5.8, 2.2, 'Iris-virginica'], dtype=object), array([81, 5.5, 2.4, 3.8, 1.1, 'Iris-versicolor'], dtype=object), array([113, 6.8, 3.0, 5.5, 2.1, 'Iris-virginica'], dtype=object), array([50, 5.0, 3.3, 1.4, 0.2, 'Iris-setosa'], dtype=object), array([59, 6.6, 2.9, 4.6, 1.3, 'Iris-versicolor'], dtype=object), array([149, 6.2, 3.4, 5.4, 2.3, 'Iris-virginica'], dtype=object)]\n",
            "\n",
            "[array([102, 5.8, 2.7, 5.1, 1.9, 'Iris-virginica'], dtype=object), array([82, 5.5, 2.4, 3.7, 1.0, 'Iris-versicolor'], dtype=object), array([43, 4.4, 3.2, 1.3, 0.2, 'Iris-setosa'], dtype=object), array([36, 5.0, 3.2, 1.2, 0.2, 'Iris-setosa'], dtype=object), array([126, 7.2, 3.2, 6.0, 1.8, 'Iris-virginica'], dtype=object), array([18, 5.1, 3.5, 1.4, 0.3, 'Iris-setosa'], dtype=object), array([34, 5.5, 4.2, 1.4, 0.2, 'Iris-setosa'], dtype=object), array([29, 5.2, 3.4, 1.4, 0.2, 'Iris-setosa'], dtype=object), array([21, 5.4, 3.4, 1.7, 0.2, 'Iris-setosa'], dtype=object), array([129, 6.4, 2.8, 5.6, 2.1, 'Iris-virginica'], dtype=object), array([65, 5.6, 2.9, 3.6, 1.3, 'Iris-versicolor'], dtype=object), array([109, 6.7, 2.5, 5.8, 1.8, 'Iris-virginica'], dtype=object), array([10, 4.9, 3.1, 1.5, 0.1, 'Iris-setosa'], dtype=object), array([12, 4.8, 3.4, 1.6, 0.2, 'Iris-setosa'], dtype=object), array([110, 7.2, 3.6, 6.1, 2.5, 'Iris-virginica'], dtype=object), array([120, 6.0, 2.2, 5.0, 1.5, 'Iris-virginica'], dtype=object), array([148, 6.5, 3.0, 5.2, 2.0, 'Iris-virginica'], dtype=object), array([114, 5.7, 2.5, 5.0, 2.0, 'Iris-virginica'], dtype=object), array([143, 5.8, 2.7, 5.1, 1.9, 'Iris-virginica'], dtype=object), array([42, 4.5, 2.3, 1.3, 0.3, 'Iris-setosa'], dtype=object), array([26, 5.0, 3.0, 1.6, 0.2, 'Iris-setosa'], dtype=object), array([27, 5.0, 3.4, 1.6, 0.4, 'Iris-setosa'], dtype=object), array([118, 7.7, 3.8, 6.7, 2.2, 'Iris-virginica'], dtype=object), array([123, 7.7, 2.8, 6.7, 2.0, 'Iris-virginica'], dtype=object), array([87, 6.7, 3.1, 4.7, 1.5, 'Iris-versicolor'], dtype=object), array([2, 4.9, 3.0, 1.4, 0.2, 'Iris-setosa'], dtype=object), array([112, 6.4, 2.7, 5.3, 1.9, 'Iris-virginica'], dtype=object), array([131, 7.4, 2.8, 6.1, 1.9, 'Iris-virginica'], dtype=object), array([16, 5.7, 4.4, 1.5, 0.4, 'Iris-setosa'], dtype=object), array([38, 4.9, 3.1, 1.5, 0.1, 'Iris-setosa'], dtype=object)]\n"
          ]
        }
      ]
    }
  ]
}