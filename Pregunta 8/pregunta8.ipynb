{
  "nbformat": 4,
  "nbformat_minor": 0,
  "metadata": {
    "colab": {
      "provenance": []
    },
    "kernelspec": {
      "name": "python3",
      "display_name": "Python 3"
    },
    "language_info": {
      "name": "python"
    }
  },
  "cells": [
    {
      "cell_type": "code",
      "execution_count": null,
      "metadata": {
        "id": "oNVti76GZmpv"
      },
      "outputs": [],
      "source": []
    },
    {
      "cell_type": "markdown",
      "source": [
        "##**8**. Del dataset de citas obtenida en la clase, realice el calculo en excel para obtener el arbol de decisió, grafique el el arbol."
      ],
      "metadata": {
        "id": "wcSI5aSVZtuG"
      }
    },
    {
      "cell_type": "code",
      "source": [
        "from sklearn import tree\n",
        "from google.colab import drive\n",
        "drive.mount('/content/drive')\n",
        "import os\n",
        "os.chdir('/content/drive/MyDrive/data')\n",
        "from sklearn.impute import SimpleImputer\n",
        "import numpy as np\n",
        "\n",
        "dc=pd.read_csv(\"citas_dataset.csv\").assign(Activity=\"citas\")\n",
        "#df=pd.read_csv(\"Football.csv\").assign(Activity=\"Football\")\n",
        "#dsi=pd.read_csv(\"Sitting.csv\").assign(Activity=\"Sitting\")\n",
        "#datos=pd.concat([dc,df,dsi])\n",
        "datos=pd.concat([dc])\n",
        "\n",
        "#seleccion de 3 filas y 10 columnas\n",
        "datosArbol=datos[['Genero','Bañarse','Con Compromiso']]\n",
        "datosArbol=datosArbol.sample(n=10)\n",
        "datosArbol.head(10)\n",
        "x=np.array(datosArbol.drop('Con Compromiso',axis=1))\n",
        "y=np.array(datosArbol[['Con Compromiso']])\n",
        "#generacion del arbol apartir de los datos\n",
        "clasificador = tree.DecisionTreeClassifier(criterion=\"entropy\")\n",
        "arbol_decision=clasificador.fit(x,y)\n",
        "r=tree.export_text(arbol_decision,feature_names=['Genero','Bañarse']\n",
        "print(r)\n",
        "plt.figure(figsize=(15,6))\n",
        "tree.plot_tree(arbol_decision,feature_names=['Genero','Bañarse']\n",
        "plt.show()"
      ],
      "metadata": {
        "colab": {
          "base_uri": "https://localhost:8080/",
          "height": 141
        },
        "id": "HnKktAo-Zy2S",
        "outputId": "83f938e1-7d63-436c-fe5a-cc8ed1a99485"
      },
      "execution_count": 3,
      "outputs": [
        {
          "output_type": "error",
          "ename": "SyntaxError",
          "evalue": "ignored",
          "traceback": [
            "\u001b[0;36m  File \u001b[0;32m\"<ipython-input-3-a868f59d0105>\"\u001b[0;36m, line \u001b[0;32m24\u001b[0m\n\u001b[0;31m    r=tree.export_text(arbol_decision,feature_names=['Genero','Bañarse']\u001b[0m\n\u001b[0m                                                    ^\u001b[0m\n\u001b[0;31mSyntaxError\u001b[0m\u001b[0;31m:\u001b[0m invalid syntax. Perhaps you forgot a comma?\n"
          ]
        }
      ]
    }
  ]
}