{
  "nbformat": 4,
  "nbformat_minor": 0,
  "metadata": {
    "colab": {
      "provenance": []
    },
    "kernelspec": {
      "name": "python3",
      "display_name": "Python 3"
    },
    "language_info": {
      "name": "python"
    }
  },
  "cells": [
    {
      "cell_type": "code",
      "execution_count": null,
      "metadata": {
        "id": "uUFYqtE2ZjdA"
      },
      "outputs": [],
      "source": []
    },
    {
      "cell_type": "markdown",
      "source": [
        "##**7**. Con el uso de librerías en PYTHON, construya la dependencia de Abuelos, tíos, padres, primos e hijos de su familia."
      ],
      "metadata": {
        "id": "8viylG-dZqbk"
      }
    },
    {
      "cell_type": "code",
      "source": [
        "from kanren import Relation, facts,var,run,lall\n",
        "from kanren.constraints import neq\n",
        "x=var()\n",
        "padres=Relation()\n",
        "facts(padres,(\"Antonio\",\"Miguel\"),\n",
        "            (\"Antonio\",\"Escarlet\"),\n",
        "            (\"Luisa\",\"Maritza\"),\n",
        "            (\"Luisa\",\"Maria\"),\n",
        "            (\"Luisa\",\"Adela\"),\n",
        "            (\"Luisa\",\"Edgar\"),\n",
        "            (\"Luisa\",\"Eloy\"),\n",
        "            (\"Teodora\",\"Raquel\"),\n",
        "            (\"Teodora\",\"Miriam\"),\n",
        "           (\"Teodora\",\"Lourdes\"),\n",
        "            (\"Teodora\",\"Silvia\"),\n",
        "            (\"Teodora\",\"William\"),\n",
        "            (\"Teodora\",\"Delia\"),\n",
        "            (\"Martha\",\"Ana\"),\n",
        "            (\"Julio\",\"Antonio\"),\n",
        "            (\"Julio\",\"Paulina\"),\n",
        "            (\"Julio\",\"Luisa\"),\n",
        "            (\"Julio\",\"Teodora\"),\n",
        "            (\"Julio\",\"Martha\"),\n",
        "            (\"Dominga\",\"Antonio\"),\n",
        "            (\"Dominga\",\"Paulina\"),\n",
        "            (\"Dominga\",\"Luisa\"),\n",
        "            (\"Dominga\",\"Teodora\"),\n",
        "            (\"Dominga\",\"Martha\"),\n",
        "            (\"Juan\",\"Raquel\"),\n",
        "            (\"Eloy\",\"Eloy\"),\n",
        "            (\"Gregoria\",\"Miguel\"),\n",
        "            (\"Victor\",\"Ana\"))\n",
        "\n",
        "\n",
        "def hijos(x,y):\n",
        "  return lall(padres(y,x))\n",
        "\n",
        "def abuelos(x,z):\n",
        "  y=var()\n",
        "  return lall(padres(x,y),padres(y,z))\n",
        "def hermanos(x,y):\n",
        "  p=var()\n",
        "  return lall(padres(p,y),hijos(x,p),neq(x,y))\n",
        "def tios(x1,z):\n",
        "  y=var()\n",
        "  x2=var()\n",
        "  return lall(padres(x2,z),hermanos(x1,x2),neq(x1,x2))\n",
        "def primos(x,y):\n",
        "  p1,p2=var(),var()\n",
        "  return lall(padres(p2,y),hermanos(p1,p2),hijos(x,p1))\n",
        "\n",
        "print(run(4,x,abuelos(x,\"Miriam\")))\n",
        "print(run(4,x,hijos(x,\"Eloy\")))\n",
        "print(run(4,x,tios(x,\"Miguel\")))\n",
        "print(run(4,x,hermanos(x,\"Delia\")))\n",
        "print(run(6,x,primos(x,\"Ana\")))"
      ],
      "metadata": {
        "colab": {
          "base_uri": "https://localhost:8080/"
        },
        "id": "xMS-90QcZspH",
        "outputId": "a067772d-237c-46ca-c5d6-969683ee1bb7"
      },
      "execution_count": 1,
      "outputs": [
        {
          "output_type": "stream",
          "name": "stdout",
          "text": [
            "('Julio', 'Dominga')\n",
            "('Eloy',)\n",
            "('Paulina', 'Martha', 'Teodora', 'Paulina')\n",
            "('Silvia', 'Miriam', 'Raquel', 'Lourdes')\n",
            "('Silvia', 'Silvia', 'Miguel', 'Miguel', 'Edgar', 'Edgar')\n"
          ]
        }
      ]
    }
  ]
}